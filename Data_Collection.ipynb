{
 "cells": [
  {
   "cell_type": "code",
   "execution_count": 14,
   "metadata": {},
   "outputs": [
    {
     "name": "stdout",
     "output_type": "stream",
     "text": [
      "Requirement already satisfied: requests in c:\\users\\ajaym\\miniconda3\\lib\\site-packages (2.25.1)\n",
      "Requirement already satisfied: idna<3,>=2.5 in c:\\users\\ajaym\\miniconda3\\lib\\site-packages (from requests) (2.10)\n",
      "Requirement already satisfied: certifi>=2017.4.17 in c:\\users\\ajaym\\miniconda3\\lib\\site-packages (from requests) (2023.5.7)\n",
      "Requirement already satisfied: urllib3<1.27,>=1.21.1 in c:\\users\\ajaym\\miniconda3\\lib\\site-packages (from requests) (1.26.6)\n",
      "Requirement already satisfied: chardet<5,>=3.0.2 in c:\\users\\ajaym\\miniconda3\\lib\\site-packages (from requests) (4.0.0)\n",
      "Note: you may need to restart the kernel to use updated packages.\n"
     ]
    }
   ],
   "source": [
    "# Installing necessary packages\n",
    "\n",
    "%pip install pandas\n",
    "%pip install selenium\n",
    "%pip install webdriver-manager\n",
    "%pip install spotipy \n",
    "%pip install requests"
   ]
  },
  {
   "cell_type": "code",
   "execution_count": 3,
   "metadata": {},
   "outputs": [],
   "source": [
    "# Importing libraries and installing Chrome webdriver\n",
    "\n",
    "from selenium import webdriver\n",
    "from selenium.webdriver.chrome.service import Service as ChromeService\n",
    "from webdriver_manager.chrome import ChromeDriverManager\n",
    "from selenium.webdriver.common.keys import Keys\n",
    "from selenium.webdriver.common.by import By\n",
    "from selenium.webdriver.chrome.options import Options\n",
    "import pandas as pd\n",
    "import spotipy\n",
    "from spotipy.oauth2 import SpotifyClientCredentials\n",
    "driver = webdriver.Chrome(service=ChromeService(ChromeDriverManager().install()))"
   ]
  },
  {
   "cell_type": "code",
   "execution_count": 29,
   "metadata": {},
   "outputs": [],
   "source": [
    "#create chromeoptions instance\n",
    "options = webdriver.ChromeOptions()\n",
    "\n",
    "\n",
    "#provide location where chrome stores profiles\n",
    "options.add_argument(r\"--user-data-dir=C:/Users/ajaym/AppData/Local/Google/Chrome/User Data\")\n",
    "\n",
    "#provide the profile name with which we want to open browser\n",
    "options.add_argument(r'--profile-directory=Profile 3')\n",
    "\n",
    "## attempts to save file to specific folder\n",
    "prefs = {\"download.default_directory\":\"D:/Disseratation_data/\"}\n",
    "options.add_experimental_option('prefs', prefs)\n",
    "\n",
    "#options.add_argument('--headless')\n",
    "\n",
    "#options.add_argument(r'--download.default_directory=D:/Disseratation_data/')"
   ]
  },
  {
   "cell_type": "code",
   "execution_count": 387,
   "metadata": {},
   "outputs": [
    {
     "ename": "NoSuchWindowException",
     "evalue": "Message: no such window: target window already closed\nfrom unknown error: web view not found\n  (Session info: chrome=114.0.5735.199)\nStacktrace:\nBacktrace:\n\tGetHandleVerifier [0x00EBA813+48355]\n\t(No symbol) [0x00E4C4B1]\n\t(No symbol) [0x00D55358]\n\t(No symbol) [0x00D3D293]\n\t(No symbol) [0x00D9E37B]\n\t(No symbol) [0x00DAC473]\n\t(No symbol) [0x00D9A536]\n\t(No symbol) [0x00D782DC]\n\t(No symbol) [0x00D793DD]\n\tGetHandleVerifier [0x0111AABD+2539405]\n\tGetHandleVerifier [0x0115A78F+2800735]\n\tGetHandleVerifier [0x0115456C+2775612]\n\tGetHandleVerifier [0x00F451E0+616112]\n\t(No symbol) [0x00E55F8C]\n\t(No symbol) [0x00E52328]\n\t(No symbol) [0x00E5240B]\n\t(No symbol) [0x00E44FF7]\n\tBaseThreadInitThunk [0x76BD7D59+25]\n\tRtlInitializeExceptionChain [0x77BAB79B+107]\n\tRtlClearBits [0x77BAB71F+191]\n",
     "output_type": "error",
     "traceback": [
      "\u001b[1;31m---------------------------------------------------------------------------\u001b[0m",
      "\u001b[1;31mNoSuchWindowException\u001b[0m                     Traceback (most recent call last)",
      "Cell \u001b[1;32mIn[387], line 14\u001b[0m\n\u001b[0;32m     12\u001b[0m     \u001b[39m# Click on Download Button\u001b[39;00m\n\u001b[0;32m     13\u001b[0m     time\u001b[39m.\u001b[39msleep(\u001b[39m2\u001b[39m)\n\u001b[1;32m---> 14\u001b[0m     driver\u001b[39m.\u001b[39;49mfind_element(By\u001b[39m.\u001b[39;49mXPATH,\u001b[39m\"\u001b[39;49m\u001b[39m//button[@aria-labelledby=\u001b[39;49m\u001b[39m'\u001b[39;49m\u001b[39mcsv_download\u001b[39;49m\u001b[39m'\u001b[39;49m\u001b[39m]\u001b[39;49m\u001b[39m\"\u001b[39;49m)\u001b[39m.\u001b[39mclick()\n\u001b[0;32m     15\u001b[0m     start_date \u001b[39m+\u001b[39m\u001b[39m=\u001b[39m time_delta\n\u001b[0;32m     16\u001b[0m driver\u001b[39m.\u001b[39mclose()\n",
      "File \u001b[1;32mc:\\Users\\ajaym\\miniconda3\\lib\\site-packages\\selenium\\webdriver\\remote\\webdriver.py:740\u001b[0m, in \u001b[0;36mWebDriver.find_element\u001b[1;34m(self, by, value)\u001b[0m\n\u001b[0;32m    737\u001b[0m     by \u001b[39m=\u001b[39m By\u001b[39m.\u001b[39mCSS_SELECTOR\n\u001b[0;32m    738\u001b[0m     value \u001b[39m=\u001b[39m \u001b[39mf\u001b[39m\u001b[39m'\u001b[39m\u001b[39m[name=\u001b[39m\u001b[39m\"\u001b[39m\u001b[39m{\u001b[39;00mvalue\u001b[39m}\u001b[39;00m\u001b[39m\"\u001b[39m\u001b[39m]\u001b[39m\u001b[39m'\u001b[39m\n\u001b[1;32m--> 740\u001b[0m \u001b[39mreturn\u001b[39;00m \u001b[39mself\u001b[39;49m\u001b[39m.\u001b[39;49mexecute(Command\u001b[39m.\u001b[39;49mFIND_ELEMENT, {\u001b[39m\"\u001b[39;49m\u001b[39musing\u001b[39;49m\u001b[39m\"\u001b[39;49m: by, \u001b[39m\"\u001b[39;49m\u001b[39mvalue\u001b[39;49m\u001b[39m\"\u001b[39;49m: value})[\u001b[39m\"\u001b[39m\u001b[39mvalue\u001b[39m\u001b[39m\"\u001b[39m]\n",
      "File \u001b[1;32mc:\\Users\\ajaym\\miniconda3\\lib\\site-packages\\selenium\\webdriver\\remote\\webdriver.py:346\u001b[0m, in \u001b[0;36mWebDriver.execute\u001b[1;34m(self, driver_command, params)\u001b[0m\n\u001b[0;32m    344\u001b[0m response \u001b[39m=\u001b[39m \u001b[39mself\u001b[39m\u001b[39m.\u001b[39mcommand_executor\u001b[39m.\u001b[39mexecute(driver_command, params)\n\u001b[0;32m    345\u001b[0m \u001b[39mif\u001b[39;00m response:\n\u001b[1;32m--> 346\u001b[0m     \u001b[39mself\u001b[39;49m\u001b[39m.\u001b[39;49merror_handler\u001b[39m.\u001b[39;49mcheck_response(response)\n\u001b[0;32m    347\u001b[0m     response[\u001b[39m\"\u001b[39m\u001b[39mvalue\u001b[39m\u001b[39m\"\u001b[39m] \u001b[39m=\u001b[39m \u001b[39mself\u001b[39m\u001b[39m.\u001b[39m_unwrap_value(response\u001b[39m.\u001b[39mget(\u001b[39m\"\u001b[39m\u001b[39mvalue\u001b[39m\u001b[39m\"\u001b[39m, \u001b[39mNone\u001b[39;00m))\n\u001b[0;32m    348\u001b[0m     \u001b[39mreturn\u001b[39;00m response\n",
      "File \u001b[1;32mc:\\Users\\ajaym\\miniconda3\\lib\\site-packages\\selenium\\webdriver\\remote\\errorhandler.py:245\u001b[0m, in \u001b[0;36mErrorHandler.check_response\u001b[1;34m(self, response)\u001b[0m\n\u001b[0;32m    243\u001b[0m         alert_text \u001b[39m=\u001b[39m value[\u001b[39m\"\u001b[39m\u001b[39malert\u001b[39m\u001b[39m\"\u001b[39m]\u001b[39m.\u001b[39mget(\u001b[39m\"\u001b[39m\u001b[39mtext\u001b[39m\u001b[39m\"\u001b[39m)\n\u001b[0;32m    244\u001b[0m     \u001b[39mraise\u001b[39;00m exception_class(message, screen, stacktrace, alert_text)  \u001b[39m# type: ignore[call-arg]  # mypy is not smart enough here\u001b[39;00m\n\u001b[1;32m--> 245\u001b[0m \u001b[39mraise\u001b[39;00m exception_class(message, screen, stacktrace)\n",
      "\u001b[1;31mNoSuchWindowException\u001b[0m: Message: no such window: target window already closed\nfrom unknown error: web view not found\n  (Session info: chrome=114.0.5735.199)\nStacktrace:\nBacktrace:\n\tGetHandleVerifier [0x00EBA813+48355]\n\t(No symbol) [0x00E4C4B1]\n\t(No symbol) [0x00D55358]\n\t(No symbol) [0x00D3D293]\n\t(No symbol) [0x00D9E37B]\n\t(No symbol) [0x00DAC473]\n\t(No symbol) [0x00D9A536]\n\t(No symbol) [0x00D782DC]\n\t(No symbol) [0x00D793DD]\n\tGetHandleVerifier [0x0111AABD+2539405]\n\tGetHandleVerifier [0x0115A78F+2800735]\n\tGetHandleVerifier [0x0115456C+2775612]\n\tGetHandleVerifier [0x00F451E0+616112]\n\t(No symbol) [0x00E55F8C]\n\t(No symbol) [0x00E52328]\n\t(No symbol) [0x00E5240B]\n\t(No symbol) [0x00E44FF7]\n\tBaseThreadInitThunk [0x76BD7D59+25]\n\tRtlInitializeExceptionChain [0x77BAB79B+107]\n\tRtlClearBits [0x77BAB71F+191]\n"
     ]
    }
   ],
   "source": [
    "# Automated code to open chrome browser, navigate to page and click on download button \n",
    "\n",
    "from datetime import date, timedelta\n",
    "start_date = date(2022, 12, 31)\n",
    "end_date = date(2023, 1, 1)\n",
    "time_delta = timedelta(days=1)\n",
    "\n",
    "driver = webdriver.Chrome(options=options)\n",
    "while start_date <= end_date:\n",
    "    driver.get(\n",
    "        f'https://charts.spotify.com/charts/view/regional-gb-daily/{start_date}')\n",
    "    # Click on Download Button\n",
    "    time.sleep(2)\n",
    "    driver.find_element(By.XPATH,\"//button[@aria-labelledby='csv_download']\").click()\n",
    "    start_date += time_delta\n",
    "driver.close()"
   ]
  },
  {
   "cell_type": "code",
   "execution_count": 71,
   "metadata": {},
   "outputs": [],
   "source": [
    "# Reading daily Top 200 songs csv files and combining into a single dataframe\n",
    "\n",
    "start_date = date(2019, 1, 1)\n",
    "end_date = date(2022, 12, 31)\n",
    "\n",
    "daily_200_combined = pd.DataFrame()\n",
    "while start_date <= end_date:\n",
    "    temp_df = pd.read_csv(f'D:/Disseratation_data/regional-gb-daily-{start_date}.csv')\n",
    "    temp_df['Date'] = start_date\n",
    "    daily_200_combined = pd.concat([daily_200_combined, temp_df], axis=0)\n",
    "    start_date += time_delta"
   ]
  },
  {
   "cell_type": "code",
   "execution_count": 72,
   "metadata": {},
   "outputs": [
    {
     "data": {
      "text/plain": [
       "292200"
      ]
     },
     "execution_count": 72,
     "metadata": {},
     "output_type": "execute_result"
    }
   ],
   "source": [
    "# Verifying the length of the chart data to be of 4*365 + 1 day times 200\n",
    "\n",
    "len(daily_200_combined)"
   ]
  },
  {
   "cell_type": "code",
   "execution_count": 73,
   "metadata": {},
   "outputs": [],
   "source": [
    "# Saving the combined chart data\n",
    "\n",
    "daily_200_combined.to_csv('D:/Disseratation_data/combined_chart_data.csv', index = False)"
   ]
  },
  {
   "cell_type": "code",
   "execution_count": 5,
   "metadata": {},
   "outputs": [
    {
     "data": {
      "text/html": [
       "<div>\n",
       "<style scoped>\n",
       "    .dataframe tbody tr th:only-of-type {\n",
       "        vertical-align: middle;\n",
       "    }\n",
       "\n",
       "    .dataframe tbody tr th {\n",
       "        vertical-align: top;\n",
       "    }\n",
       "\n",
       "    .dataframe thead th {\n",
       "        text-align: right;\n",
       "    }\n",
       "</style>\n",
       "<table border=\"1\" class=\"dataframe\">\n",
       "  <thead>\n",
       "    <tr style=\"text-align: right;\">\n",
       "      <th></th>\n",
       "      <th>rank</th>\n",
       "      <th>uri</th>\n",
       "      <th>artist_names</th>\n",
       "      <th>track_name</th>\n",
       "      <th>source</th>\n",
       "      <th>peak_rank</th>\n",
       "      <th>previous_rank</th>\n",
       "      <th>days_on_chart</th>\n",
       "      <th>streams</th>\n",
       "      <th>Date</th>\n",
       "    </tr>\n",
       "  </thead>\n",
       "  <tbody>\n",
       "    <tr>\n",
       "      <th>0</th>\n",
       "      <td>1</td>\n",
       "      <td>spotify:track:25sgk305KZfyuqVBQIahim</td>\n",
       "      <td>Ava Max</td>\n",
       "      <td>Sweet but Psycho</td>\n",
       "      <td>Atlantic Records</td>\n",
       "      <td>1</td>\n",
       "      <td>1</td>\n",
       "      <td>89</td>\n",
       "      <td>334456</td>\n",
       "      <td>2019-01-01</td>\n",
       "    </tr>\n",
       "    <tr>\n",
       "      <th>1</th>\n",
       "      <td>2</td>\n",
       "      <td>spotify:track:2rPE9A1vEgShuZxxzR2tZH</td>\n",
       "      <td>Ariana Grande</td>\n",
       "      <td>thank u, next</td>\n",
       "      <td>Republic Records</td>\n",
       "      <td>1</td>\n",
       "      <td>2</td>\n",
       "      <td>59</td>\n",
       "      <td>317204</td>\n",
       "      <td>2019-01-01</td>\n",
       "    </tr>\n",
       "    <tr>\n",
       "      <th>2</th>\n",
       "      <td>3</td>\n",
       "      <td>spotify:track:3KkXRkHbMCARz0aVfEt68P</td>\n",
       "      <td>Post Malone, Swae Lee</td>\n",
       "      <td>Sunflower - Spider-Man: Into the Spider-Verse</td>\n",
       "      <td>Universal Records</td>\n",
       "      <td>3</td>\n",
       "      <td>3</td>\n",
       "      <td>76</td>\n",
       "      <td>255033</td>\n",
       "      <td>2019-01-01</td>\n",
       "    </tr>\n",
       "    <tr>\n",
       "      <th>3</th>\n",
       "      <td>4</td>\n",
       "      <td>spotify:track:5p7ujcrUXASCNwRaWNHR1C</td>\n",
       "      <td>Halsey</td>\n",
       "      <td>Without Me</td>\n",
       "      <td>Capitol Records</td>\n",
       "      <td>2</td>\n",
       "      <td>4</td>\n",
       "      <td>89</td>\n",
       "      <td>232117</td>\n",
       "      <td>2019-01-01</td>\n",
       "    </tr>\n",
       "    <tr>\n",
       "      <th>4</th>\n",
       "      <td>5</td>\n",
       "      <td>spotify:track:6MWtB6iiXyIwun0YzU6DFP</td>\n",
       "      <td>Post Malone</td>\n",
       "      <td>Wow.</td>\n",
       "      <td>Republic Records</td>\n",
       "      <td>4</td>\n",
       "      <td>6</td>\n",
       "      <td>9</td>\n",
       "      <td>202739</td>\n",
       "      <td>2019-01-01</td>\n",
       "    </tr>\n",
       "  </tbody>\n",
       "</table>\n",
       "</div>"
      ],
      "text/plain": [
       "   rank                                   uri           artist_names  \\\n",
       "0     1  spotify:track:25sgk305KZfyuqVBQIahim                Ava Max   \n",
       "1     2  spotify:track:2rPE9A1vEgShuZxxzR2tZH          Ariana Grande   \n",
       "2     3  spotify:track:3KkXRkHbMCARz0aVfEt68P  Post Malone, Swae Lee   \n",
       "3     4  spotify:track:5p7ujcrUXASCNwRaWNHR1C                 Halsey   \n",
       "4     5  spotify:track:6MWtB6iiXyIwun0YzU6DFP            Post Malone   \n",
       "\n",
       "                                      track_name             source  \\\n",
       "0                               Sweet but Psycho   Atlantic Records   \n",
       "1                                  thank u, next   Republic Records   \n",
       "2  Sunflower - Spider-Man: Into the Spider-Verse  Universal Records   \n",
       "3                                     Without Me    Capitol Records   \n",
       "4                                           Wow.   Republic Records   \n",
       "\n",
       "   peak_rank  previous_rank  days_on_chart  streams        Date  \n",
       "0          1              1             89   334456  2019-01-01  \n",
       "1          1              2             59   317204  2019-01-01  \n",
       "2          3              3             76   255033  2019-01-01  \n",
       "3          2              4             89   232117  2019-01-01  \n",
       "4          4              6              9   202739  2019-01-01  "
      ]
     },
     "execution_count": 5,
     "metadata": {},
     "output_type": "execute_result"
    }
   ],
   "source": [
    "daily_200_combined.head()"
   ]
  },
  {
   "cell_type": "code",
   "execution_count": 6,
   "metadata": {},
   "outputs": [],
   "source": [
    "# Creating a list of unique uri's\n",
    "\n",
    "song_uri_list = daily_200_combined['uri'].unique()"
   ]
  },
  {
   "cell_type": "code",
   "execution_count": 7,
   "metadata": {},
   "outputs": [
    {
     "data": {
      "text/plain": [
       "6473"
      ]
     },
     "execution_count": 7,
     "metadata": {},
     "output_type": "execute_result"
    }
   ],
   "source": [
    "# Number of unique songs in UK Top 200 list during 2019 - 2022 \n",
    "\n",
    "len(song_uri_list)"
   ]
  },
  {
   "cell_type": "code",
   "execution_count": 21,
   "metadata": {},
   "outputs": [],
   "source": [
    "# Authorising Spotify API usuage using client id and secret\n",
    "\n",
    "client_credentials_manager = SpotifyClientCredentials(client_id='db8da9db1d5f40ceaed373b3bbfd94cc', client_secret='529377dbbff64685af3bb6e94578f80f')\n",
    "sp = spotipy.Spotify(client_credentials_manager = client_credentials_manager)"
   ]
  },
  {
   "cell_type": "code",
   "execution_count": 25,
   "metadata": {},
   "outputs": [],
   "source": [
    "# Gathering audio features of songs through Spotify API\n",
    "\n",
    "acoustic_properties_df = pd.DataFrame(columns=['danceability', 'energy', 'key', 'loudness', 'mode', 'speechiness', 'acousticness', 'instrumentalness', 'liveness', 'valence', 'tempo', 'type', 'id', 'uri', 'track_href', 'analysis_url', 'duration_ms', 'time_signature'])\n",
    "lower_limit = 0\n",
    "upper_limit = len(song_uri_list)\n",
    "for i in range(100, upper_limit, 100):\n",
    "    af = sp.audio_features(song_uri_list[lower_limit:min(i, upper_limit)])\n",
    "    for j in range(lower_limit, min(i, upper_limit)):\n",
    "        acoustic_properties_df.loc[j] = af[j-lower_limit]\n",
    "    lower_limit += 100"
   ]
  },
  {
   "cell_type": "code",
   "execution_count": 26,
   "metadata": {},
   "outputs": [],
   "source": [
    "for i in range(len(song_uri_list)//100*100, len(song_uri_list)):\n",
    "    af = sp.audio_features(song_uri_list[i])\n",
    "    acoustic_properties_df.loc[i] = af[0]"
   ]
  },
  {
   "cell_type": "code",
   "execution_count": 11,
   "metadata": {},
   "outputs": [
    {
     "data": {
      "text/html": [
       "<div>\n",
       "<style scoped>\n",
       "    .dataframe tbody tr th:only-of-type {\n",
       "        vertical-align: middle;\n",
       "    }\n",
       "\n",
       "    .dataframe tbody tr th {\n",
       "        vertical-align: top;\n",
       "    }\n",
       "\n",
       "    .dataframe thead th {\n",
       "        text-align: right;\n",
       "    }\n",
       "</style>\n",
       "<table border=\"1\" class=\"dataframe\">\n",
       "  <thead>\n",
       "    <tr style=\"text-align: right;\">\n",
       "      <th></th>\n",
       "      <th>danceability</th>\n",
       "      <th>energy</th>\n",
       "      <th>key</th>\n",
       "      <th>loudness</th>\n",
       "      <th>mode</th>\n",
       "      <th>speechiness</th>\n",
       "      <th>acousticness</th>\n",
       "      <th>instrumentalness</th>\n",
       "      <th>liveness</th>\n",
       "      <th>valence</th>\n",
       "      <th>tempo</th>\n",
       "      <th>type</th>\n",
       "      <th>id</th>\n",
       "      <th>uri</th>\n",
       "      <th>track_href</th>\n",
       "      <th>analysis_url</th>\n",
       "      <th>duration_ms</th>\n",
       "      <th>time_signature</th>\n",
       "    </tr>\n",
       "  </thead>\n",
       "  <tbody>\n",
       "    <tr>\n",
       "      <th>0</th>\n",
       "      <td>0.719</td>\n",
       "      <td>0.704</td>\n",
       "      <td>1.0</td>\n",
       "      <td>-4.724</td>\n",
       "      <td>1.0</td>\n",
       "      <td>0.0476</td>\n",
       "      <td>0.0691</td>\n",
       "      <td>0.000000</td>\n",
       "      <td>0.1660</td>\n",
       "      <td>0.628</td>\n",
       "      <td>133.002</td>\n",
       "      <td>audio_features</td>\n",
       "      <td>25sgk305KZfyuqVBQIahim</td>\n",
       "      <td>spotify:track:25sgk305KZfyuqVBQIahim</td>\n",
       "      <td>https://api.spotify.com/v1/tracks/25sgk305KZfy...</td>\n",
       "      <td>https://api.spotify.com/v1/audio-analysis/25sg...</td>\n",
       "      <td>187436.0</td>\n",
       "      <td>4.0</td>\n",
       "    </tr>\n",
       "    <tr>\n",
       "      <th>1</th>\n",
       "      <td>0.724</td>\n",
       "      <td>0.647</td>\n",
       "      <td>1.0</td>\n",
       "      <td>-5.642</td>\n",
       "      <td>1.0</td>\n",
       "      <td>0.0658</td>\n",
       "      <td>0.2800</td>\n",
       "      <td>0.000000</td>\n",
       "      <td>0.1020</td>\n",
       "      <td>0.435</td>\n",
       "      <td>106.960</td>\n",
       "      <td>audio_features</td>\n",
       "      <td>2rPE9A1vEgShuZxxzR2tZH</td>\n",
       "      <td>spotify:track:2rPE9A1vEgShuZxxzR2tZH</td>\n",
       "      <td>https://api.spotify.com/v1/tracks/2rPE9A1vEgSh...</td>\n",
       "      <td>https://api.spotify.com/v1/audio-analysis/2rPE...</td>\n",
       "      <td>207333.0</td>\n",
       "      <td>4.0</td>\n",
       "    </tr>\n",
       "    <tr>\n",
       "      <th>2</th>\n",
       "      <td>0.760</td>\n",
       "      <td>0.479</td>\n",
       "      <td>2.0</td>\n",
       "      <td>-5.574</td>\n",
       "      <td>1.0</td>\n",
       "      <td>0.0466</td>\n",
       "      <td>0.5560</td>\n",
       "      <td>0.000000</td>\n",
       "      <td>0.0703</td>\n",
       "      <td>0.913</td>\n",
       "      <td>89.911</td>\n",
       "      <td>audio_features</td>\n",
       "      <td>3KkXRkHbMCARz0aVfEt68P</td>\n",
       "      <td>spotify:track:3KkXRkHbMCARz0aVfEt68P</td>\n",
       "      <td>https://api.spotify.com/v1/tracks/3KkXRkHbMCAR...</td>\n",
       "      <td>https://api.spotify.com/v1/audio-analysis/3KkX...</td>\n",
       "      <td>158040.0</td>\n",
       "      <td>4.0</td>\n",
       "    </tr>\n",
       "    <tr>\n",
       "      <th>3</th>\n",
       "      <td>0.752</td>\n",
       "      <td>0.488</td>\n",
       "      <td>6.0</td>\n",
       "      <td>-7.050</td>\n",
       "      <td>1.0</td>\n",
       "      <td>0.0705</td>\n",
       "      <td>0.2970</td>\n",
       "      <td>0.000009</td>\n",
       "      <td>0.0936</td>\n",
       "      <td>0.533</td>\n",
       "      <td>136.041</td>\n",
       "      <td>audio_features</td>\n",
       "      <td>5p7ujcrUXASCNwRaWNHR1C</td>\n",
       "      <td>spotify:track:5p7ujcrUXASCNwRaWNHR1C</td>\n",
       "      <td>https://api.spotify.com/v1/tracks/5p7ujcrUXASC...</td>\n",
       "      <td>https://api.spotify.com/v1/audio-analysis/5p7u...</td>\n",
       "      <td>201661.0</td>\n",
       "      <td>4.0</td>\n",
       "    </tr>\n",
       "    <tr>\n",
       "      <th>4</th>\n",
       "      <td>0.833</td>\n",
       "      <td>0.539</td>\n",
       "      <td>11.0</td>\n",
       "      <td>-7.399</td>\n",
       "      <td>0.0</td>\n",
       "      <td>0.1780</td>\n",
       "      <td>0.1630</td>\n",
       "      <td>0.000002</td>\n",
       "      <td>0.1010</td>\n",
       "      <td>0.385</td>\n",
       "      <td>99.947</td>\n",
       "      <td>audio_features</td>\n",
       "      <td>6MWtB6iiXyIwun0YzU6DFP</td>\n",
       "      <td>spotify:track:6MWtB6iiXyIwun0YzU6DFP</td>\n",
       "      <td>https://api.spotify.com/v1/tracks/6MWtB6iiXyIw...</td>\n",
       "      <td>https://api.spotify.com/v1/audio-analysis/6MWt...</td>\n",
       "      <td>149520.0</td>\n",
       "      <td>4.0</td>\n",
       "    </tr>\n",
       "  </tbody>\n",
       "</table>\n",
       "</div>"
      ],
      "text/plain": [
       "   danceability  energy   key  loudness  mode  speechiness  acousticness  \\\n",
       "0         0.719   0.704   1.0    -4.724   1.0       0.0476        0.0691   \n",
       "1         0.724   0.647   1.0    -5.642   1.0       0.0658        0.2800   \n",
       "2         0.760   0.479   2.0    -5.574   1.0       0.0466        0.5560   \n",
       "3         0.752   0.488   6.0    -7.050   1.0       0.0705        0.2970   \n",
       "4         0.833   0.539  11.0    -7.399   0.0       0.1780        0.1630   \n",
       "\n",
       "   instrumentalness  liveness  valence    tempo            type  \\\n",
       "0          0.000000    0.1660    0.628  133.002  audio_features   \n",
       "1          0.000000    0.1020    0.435  106.960  audio_features   \n",
       "2          0.000000    0.0703    0.913   89.911  audio_features   \n",
       "3          0.000009    0.0936    0.533  136.041  audio_features   \n",
       "4          0.000002    0.1010    0.385   99.947  audio_features   \n",
       "\n",
       "                       id                                   uri  \\\n",
       "0  25sgk305KZfyuqVBQIahim  spotify:track:25sgk305KZfyuqVBQIahim   \n",
       "1  2rPE9A1vEgShuZxxzR2tZH  spotify:track:2rPE9A1vEgShuZxxzR2tZH   \n",
       "2  3KkXRkHbMCARz0aVfEt68P  spotify:track:3KkXRkHbMCARz0aVfEt68P   \n",
       "3  5p7ujcrUXASCNwRaWNHR1C  spotify:track:5p7ujcrUXASCNwRaWNHR1C   \n",
       "4  6MWtB6iiXyIwun0YzU6DFP  spotify:track:6MWtB6iiXyIwun0YzU6DFP   \n",
       "\n",
       "                                          track_href  \\\n",
       "0  https://api.spotify.com/v1/tracks/25sgk305KZfy...   \n",
       "1  https://api.spotify.com/v1/tracks/2rPE9A1vEgSh...   \n",
       "2  https://api.spotify.com/v1/tracks/3KkXRkHbMCAR...   \n",
       "3  https://api.spotify.com/v1/tracks/5p7ujcrUXASC...   \n",
       "4  https://api.spotify.com/v1/tracks/6MWtB6iiXyIw...   \n",
       "\n",
       "                                        analysis_url  duration_ms  \\\n",
       "0  https://api.spotify.com/v1/audio-analysis/25sg...     187436.0   \n",
       "1  https://api.spotify.com/v1/audio-analysis/2rPE...     207333.0   \n",
       "2  https://api.spotify.com/v1/audio-analysis/3KkX...     158040.0   \n",
       "3  https://api.spotify.com/v1/audio-analysis/5p7u...     201661.0   \n",
       "4  https://api.spotify.com/v1/audio-analysis/6MWt...     149520.0   \n",
       "\n",
       "   time_signature  \n",
       "0             4.0  \n",
       "1             4.0  \n",
       "2             4.0  \n",
       "3             4.0  \n",
       "4             4.0  "
      ]
     },
     "execution_count": 11,
     "metadata": {},
     "output_type": "execute_result"
    }
   ],
   "source": [
    "acoustic_properties_df.head()"
   ]
  },
  {
   "cell_type": "code",
   "execution_count": 81,
   "metadata": {},
   "outputs": [
    {
     "data": {
      "text/plain": [
       "6473"
      ]
     },
     "execution_count": 81,
     "metadata": {},
     "output_type": "execute_result"
    }
   ],
   "source": [
    "# Verifying the consistency of the number of songs\n",
    "\n",
    "len(acoustic_properties_df['uri'].unique())"
   ]
  },
  {
   "cell_type": "code",
   "execution_count": 29,
   "metadata": {},
   "outputs": [],
   "source": [
    "acoustic_properties_df.to_csv('D:/Disseratation_data/acoustic_song_properties.csv', index = False)"
   ]
  },
  {
   "cell_type": "code",
   "execution_count": 23,
   "metadata": {},
   "outputs": [],
   "source": [
    "# Gathering general information about songs through Spotify API\n",
    "\n",
    "song_info = pd.DataFrame(columns=['uri', 'album_type', 'popularity', 'release_date'])\n",
    "lower_limit = 0\n",
    "upper_limit = len(song_uri_list)\n",
    "k = 0\n",
    "af=[]\n",
    "for i in range(50, upper_limit, 50):\n",
    "    track_info = sp.tracks(song_uri_list[lower_limit:min(i, upper_limit)])\n",
    "    for j in range(lower_limit, min(i, upper_limit)):\n",
    "        song_info.loc[j] = {'uri' : track_info['tracks'][j - lower_limit]['uri'], 'album_type': track_info['tracks'][j - lower_limit]['album']['album_type'], \n",
    "        'popularity': track_info['tracks'][j - lower_limit]['popularity'], 'release_date' : track_info['tracks'][j - lower_limit]['album']['release_date']}\n",
    "    lower_limit += 50\n"
   ]
  },
  {
   "cell_type": "code",
   "execution_count": 24,
   "metadata": {},
   "outputs": [],
   "source": [
    "for i in range(len(song_uri_list)//50*50, len(song_uri_list)):\n",
    "    track_info = sp.track(song_uri_list[i])\n",
    "    song_info.loc[i] = {'uri' : track_info['uri'], 'album_type': track_info['album']['album_type'], 'popularity': track_info['popularity'], 'release_date' : track_info['album']['release_date']}"
   ]
  },
  {
   "cell_type": "code",
   "execution_count": 10,
   "metadata": {},
   "outputs": [
    {
     "data": {
      "text/html": [
       "<div>\n",
       "<style scoped>\n",
       "    .dataframe tbody tr th:only-of-type {\n",
       "        vertical-align: middle;\n",
       "    }\n",
       "\n",
       "    .dataframe tbody tr th {\n",
       "        vertical-align: top;\n",
       "    }\n",
       "\n",
       "    .dataframe thead th {\n",
       "        text-align: right;\n",
       "    }\n",
       "</style>\n",
       "<table border=\"1\" class=\"dataframe\">\n",
       "  <thead>\n",
       "    <tr style=\"text-align: right;\">\n",
       "      <th></th>\n",
       "      <th>uri</th>\n",
       "      <th>album_type</th>\n",
       "      <th>popularity</th>\n",
       "      <th>release_date</th>\n",
       "    </tr>\n",
       "  </thead>\n",
       "  <tbody>\n",
       "    <tr>\n",
       "      <th>0</th>\n",
       "      <td>spotify:track:25sgk305KZfyuqVBQIahim</td>\n",
       "      <td>single</td>\n",
       "      <td>3</td>\n",
       "      <td>2018-08-17</td>\n",
       "    </tr>\n",
       "    <tr>\n",
       "      <th>1</th>\n",
       "      <td>spotify:track:2rPE9A1vEgShuZxxzR2tZH</td>\n",
       "      <td>single</td>\n",
       "      <td>22</td>\n",
       "      <td>2018-11-03</td>\n",
       "    </tr>\n",
       "    <tr>\n",
       "      <th>2</th>\n",
       "      <td>spotify:track:3KkXRkHbMCARz0aVfEt68P</td>\n",
       "      <td>compilation</td>\n",
       "      <td>89</td>\n",
       "      <td>2018-12-14</td>\n",
       "    </tr>\n",
       "    <tr>\n",
       "      <th>3</th>\n",
       "      <td>spotify:track:5p7ujcrUXASCNwRaWNHR1C</td>\n",
       "      <td>single</td>\n",
       "      <td>77</td>\n",
       "      <td>2018-10-04</td>\n",
       "    </tr>\n",
       "    <tr>\n",
       "      <th>4</th>\n",
       "      <td>spotify:track:6MWtB6iiXyIwun0YzU6DFP</td>\n",
       "      <td>single</td>\n",
       "      <td>1</td>\n",
       "      <td>2018-12-24</td>\n",
       "    </tr>\n",
       "  </tbody>\n",
       "</table>\n",
       "</div>"
      ],
      "text/plain": [
       "                                    uri   album_type  popularity release_date\n",
       "0  spotify:track:25sgk305KZfyuqVBQIahim       single           3   2018-08-17\n",
       "1  spotify:track:2rPE9A1vEgShuZxxzR2tZH       single          22   2018-11-03\n",
       "2  spotify:track:3KkXRkHbMCARz0aVfEt68P  compilation          89   2018-12-14\n",
       "3  spotify:track:5p7ujcrUXASCNwRaWNHR1C       single          77   2018-10-04\n",
       "4  spotify:track:6MWtB6iiXyIwun0YzU6DFP       single           1   2018-12-24"
      ]
     },
     "execution_count": 10,
     "metadata": {},
     "output_type": "execute_result"
    }
   ],
   "source": [
    "song_info.head()"
   ]
  },
  {
   "cell_type": "code",
   "execution_count": 86,
   "metadata": {},
   "outputs": [
    {
     "data": {
      "text/plain": [
       "6473"
      ]
     },
     "execution_count": 86,
     "metadata": {},
     "output_type": "execute_result"
    }
   ],
   "source": [
    "# Verifying the consistency of the number of songs\n",
    "\n",
    "len(song_info['uri'].unique())"
   ]
  },
  {
   "cell_type": "code",
   "execution_count": 87,
   "metadata": {},
   "outputs": [],
   "source": [
    "song_info.to_csv('D:/Disseratation_data/song_info.csv', index = False)"
   ]
  },
  {
   "cell_type": "code",
   "execution_count": 27,
   "metadata": {},
   "outputs": [],
   "source": [
    "# Merging daily charts with song properties into new data frame combined_df\n",
    "\n",
    "combined_df = pd.merge(daily_200_combined, acoustic_properties_df, on ='uri', how = 'inner')"
   ]
  },
  {
   "cell_type": "code",
   "execution_count": 28,
   "metadata": {},
   "outputs": [
    {
     "data": {
      "text/plain": [
       "292200"
      ]
     },
     "execution_count": 28,
     "metadata": {},
     "output_type": "execute_result"
    }
   ],
   "source": [
    "len(combined_df)"
   ]
  },
  {
   "cell_type": "code",
   "execution_count": 31,
   "metadata": {},
   "outputs": [],
   "source": [
    "# Merging song_info with combined_df\n",
    "\n",
    "combined_df = pd.merge(combined_df, song_info, on ='uri', how = 'inner')"
   ]
  },
  {
   "cell_type": "code",
   "execution_count": 32,
   "metadata": {},
   "outputs": [
    {
     "data": {
      "text/plain": [
       "292200"
      ]
     },
     "execution_count": 32,
     "metadata": {},
     "output_type": "execute_result"
    }
   ],
   "source": [
    "len(combined_df)"
   ]
  },
  {
   "cell_type": "code",
   "execution_count": 33,
   "metadata": {},
   "outputs": [
    {
     "data": {
      "text/plain": [
       "Index(['rank', 'uri', 'artist_names', 'track_name', 'source', 'peak_rank',\n",
       "       'previous_rank', 'days_on_chart', 'streams', 'Date', 'danceability',\n",
       "       'energy', 'key', 'loudness', 'mode', 'speechiness', 'acousticness',\n",
       "       'instrumentalness', 'liveness', 'valence', 'tempo', 'type', 'id',\n",
       "       'track_href', 'analysis_url', 'duration_ms', 'time_signature',\n",
       "       'album_type', 'popularity', 'release_date'],\n",
       "      dtype='object')"
      ]
     },
     "execution_count": 33,
     "metadata": {},
     "output_type": "execute_result"
    }
   ],
   "source": [
    "# Listing the columns of the combined dataframe\n",
    "\n",
    "combined_df.columns"
   ]
  },
  {
   "cell_type": "code",
   "execution_count": 34,
   "metadata": {},
   "outputs": [
    {
     "data": {
      "text/html": [
       "<div>\n",
       "<style scoped>\n",
       "    .dataframe tbody tr th:only-of-type {\n",
       "        vertical-align: middle;\n",
       "    }\n",
       "\n",
       "    .dataframe tbody tr th {\n",
       "        vertical-align: top;\n",
       "    }\n",
       "\n",
       "    .dataframe thead th {\n",
       "        text-align: right;\n",
       "    }\n",
       "</style>\n",
       "<table border=\"1\" class=\"dataframe\">\n",
       "  <thead>\n",
       "    <tr style=\"text-align: right;\">\n",
       "      <th></th>\n",
       "      <th>rank</th>\n",
       "      <th>uri</th>\n",
       "      <th>artist_names</th>\n",
       "      <th>track_name</th>\n",
       "      <th>source</th>\n",
       "      <th>peak_rank</th>\n",
       "      <th>previous_rank</th>\n",
       "      <th>days_on_chart</th>\n",
       "      <th>streams</th>\n",
       "      <th>Date</th>\n",
       "      <th>...</th>\n",
       "      <th>tempo</th>\n",
       "      <th>type</th>\n",
       "      <th>id</th>\n",
       "      <th>track_href</th>\n",
       "      <th>analysis_url</th>\n",
       "      <th>duration_ms</th>\n",
       "      <th>time_signature</th>\n",
       "      <th>album_type</th>\n",
       "      <th>popularity</th>\n",
       "      <th>release_date</th>\n",
       "    </tr>\n",
       "  </thead>\n",
       "  <tbody>\n",
       "    <tr>\n",
       "      <th>0</th>\n",
       "      <td>1</td>\n",
       "      <td>spotify:track:25sgk305KZfyuqVBQIahim</td>\n",
       "      <td>Ava Max</td>\n",
       "      <td>Sweet but Psycho</td>\n",
       "      <td>Atlantic Records</td>\n",
       "      <td>1</td>\n",
       "      <td>1</td>\n",
       "      <td>89</td>\n",
       "      <td>334456</td>\n",
       "      <td>2019-01-01</td>\n",
       "      <td>...</td>\n",
       "      <td>133.002</td>\n",
       "      <td>audio_features</td>\n",
       "      <td>25sgk305KZfyuqVBQIahim</td>\n",
       "      <td>https://api.spotify.com/v1/tracks/25sgk305KZfy...</td>\n",
       "      <td>https://api.spotify.com/v1/audio-analysis/25sg...</td>\n",
       "      <td>187436</td>\n",
       "      <td>4</td>\n",
       "      <td>single</td>\n",
       "      <td>3</td>\n",
       "      <td>2018-08-17</td>\n",
       "    </tr>\n",
       "    <tr>\n",
       "      <th>1</th>\n",
       "      <td>1</td>\n",
       "      <td>spotify:track:25sgk305KZfyuqVBQIahim</td>\n",
       "      <td>Ava Max</td>\n",
       "      <td>Sweet but Psycho</td>\n",
       "      <td>Atlantic Records</td>\n",
       "      <td>1</td>\n",
       "      <td>1</td>\n",
       "      <td>90</td>\n",
       "      <td>421463</td>\n",
       "      <td>2019-01-02</td>\n",
       "      <td>...</td>\n",
       "      <td>133.002</td>\n",
       "      <td>audio_features</td>\n",
       "      <td>25sgk305KZfyuqVBQIahim</td>\n",
       "      <td>https://api.spotify.com/v1/tracks/25sgk305KZfy...</td>\n",
       "      <td>https://api.spotify.com/v1/audio-analysis/25sg...</td>\n",
       "      <td>187436</td>\n",
       "      <td>4</td>\n",
       "      <td>single</td>\n",
       "      <td>3</td>\n",
       "      <td>2018-08-17</td>\n",
       "    </tr>\n",
       "    <tr>\n",
       "      <th>2</th>\n",
       "      <td>1</td>\n",
       "      <td>spotify:track:25sgk305KZfyuqVBQIahim</td>\n",
       "      <td>Ava Max</td>\n",
       "      <td>Sweet but Psycho</td>\n",
       "      <td>Atlantic Records</td>\n",
       "      <td>1</td>\n",
       "      <td>1</td>\n",
       "      <td>91</td>\n",
       "      <td>418099</td>\n",
       "      <td>2019-01-03</td>\n",
       "      <td>...</td>\n",
       "      <td>133.002</td>\n",
       "      <td>audio_features</td>\n",
       "      <td>25sgk305KZfyuqVBQIahim</td>\n",
       "      <td>https://api.spotify.com/v1/tracks/25sgk305KZfy...</td>\n",
       "      <td>https://api.spotify.com/v1/audio-analysis/25sg...</td>\n",
       "      <td>187436</td>\n",
       "      <td>4</td>\n",
       "      <td>single</td>\n",
       "      <td>3</td>\n",
       "      <td>2018-08-17</td>\n",
       "    </tr>\n",
       "    <tr>\n",
       "      <th>3</th>\n",
       "      <td>1</td>\n",
       "      <td>spotify:track:25sgk305KZfyuqVBQIahim</td>\n",
       "      <td>Ava Max</td>\n",
       "      <td>Sweet but Psycho</td>\n",
       "      <td>Atlantic Records</td>\n",
       "      <td>1</td>\n",
       "      <td>1</td>\n",
       "      <td>92</td>\n",
       "      <td>437177</td>\n",
       "      <td>2019-01-04</td>\n",
       "      <td>...</td>\n",
       "      <td>133.002</td>\n",
       "      <td>audio_features</td>\n",
       "      <td>25sgk305KZfyuqVBQIahim</td>\n",
       "      <td>https://api.spotify.com/v1/tracks/25sgk305KZfy...</td>\n",
       "      <td>https://api.spotify.com/v1/audio-analysis/25sg...</td>\n",
       "      <td>187436</td>\n",
       "      <td>4</td>\n",
       "      <td>single</td>\n",
       "      <td>3</td>\n",
       "      <td>2018-08-17</td>\n",
       "    </tr>\n",
       "    <tr>\n",
       "      <th>4</th>\n",
       "      <td>1</td>\n",
       "      <td>spotify:track:25sgk305KZfyuqVBQIahim</td>\n",
       "      <td>Ava Max</td>\n",
       "      <td>Sweet but Psycho</td>\n",
       "      <td>Atlantic Records</td>\n",
       "      <td>1</td>\n",
       "      <td>1</td>\n",
       "      <td>93</td>\n",
       "      <td>424643</td>\n",
       "      <td>2019-01-05</td>\n",
       "      <td>...</td>\n",
       "      <td>133.002</td>\n",
       "      <td>audio_features</td>\n",
       "      <td>25sgk305KZfyuqVBQIahim</td>\n",
       "      <td>https://api.spotify.com/v1/tracks/25sgk305KZfy...</td>\n",
       "      <td>https://api.spotify.com/v1/audio-analysis/25sg...</td>\n",
       "      <td>187436</td>\n",
       "      <td>4</td>\n",
       "      <td>single</td>\n",
       "      <td>3</td>\n",
       "      <td>2018-08-17</td>\n",
       "    </tr>\n",
       "  </tbody>\n",
       "</table>\n",
       "<p>5 rows × 30 columns</p>\n",
       "</div>"
      ],
      "text/plain": [
       "   rank                                   uri artist_names        track_name  \\\n",
       "0     1  spotify:track:25sgk305KZfyuqVBQIahim      Ava Max  Sweet but Psycho   \n",
       "1     1  spotify:track:25sgk305KZfyuqVBQIahim      Ava Max  Sweet but Psycho   \n",
       "2     1  spotify:track:25sgk305KZfyuqVBQIahim      Ava Max  Sweet but Psycho   \n",
       "3     1  spotify:track:25sgk305KZfyuqVBQIahim      Ava Max  Sweet but Psycho   \n",
       "4     1  spotify:track:25sgk305KZfyuqVBQIahim      Ava Max  Sweet but Psycho   \n",
       "\n",
       "             source  peak_rank  previous_rank  days_on_chart  streams  \\\n",
       "0  Atlantic Records          1              1             89   334456   \n",
       "1  Atlantic Records          1              1             90   421463   \n",
       "2  Atlantic Records          1              1             91   418099   \n",
       "3  Atlantic Records          1              1             92   437177   \n",
       "4  Atlantic Records          1              1             93   424643   \n",
       "\n",
       "         Date  ...    tempo            type                      id  \\\n",
       "0  2019-01-01  ...  133.002  audio_features  25sgk305KZfyuqVBQIahim   \n",
       "1  2019-01-02  ...  133.002  audio_features  25sgk305KZfyuqVBQIahim   \n",
       "2  2019-01-03  ...  133.002  audio_features  25sgk305KZfyuqVBQIahim   \n",
       "3  2019-01-04  ...  133.002  audio_features  25sgk305KZfyuqVBQIahim   \n",
       "4  2019-01-05  ...  133.002  audio_features  25sgk305KZfyuqVBQIahim   \n",
       "\n",
       "                                          track_href  \\\n",
       "0  https://api.spotify.com/v1/tracks/25sgk305KZfy...   \n",
       "1  https://api.spotify.com/v1/tracks/25sgk305KZfy...   \n",
       "2  https://api.spotify.com/v1/tracks/25sgk305KZfy...   \n",
       "3  https://api.spotify.com/v1/tracks/25sgk305KZfy...   \n",
       "4  https://api.spotify.com/v1/tracks/25sgk305KZfy...   \n",
       "\n",
       "                                        analysis_url  duration_ms  \\\n",
       "0  https://api.spotify.com/v1/audio-analysis/25sg...       187436   \n",
       "1  https://api.spotify.com/v1/audio-analysis/25sg...       187436   \n",
       "2  https://api.spotify.com/v1/audio-analysis/25sg...       187436   \n",
       "3  https://api.spotify.com/v1/audio-analysis/25sg...       187436   \n",
       "4  https://api.spotify.com/v1/audio-analysis/25sg...       187436   \n",
       "\n",
       "   time_signature  album_type  popularity  release_date  \n",
       "0               4      single           3    2018-08-17  \n",
       "1               4      single           3    2018-08-17  \n",
       "2               4      single           3    2018-08-17  \n",
       "3               4      single           3    2018-08-17  \n",
       "4               4      single           3    2018-08-17  \n",
       "\n",
       "[5 rows x 30 columns]"
      ]
     },
     "execution_count": 34,
     "metadata": {},
     "output_type": "execute_result"
    }
   ],
   "source": [
    "combined_df.head()"
   ]
  },
  {
   "cell_type": "code",
   "execution_count": 35,
   "metadata": {},
   "outputs": [],
   "source": [
    "# Saving the combined dataframe\n",
    "\n",
    "combined_df.to_csv('D:/Disseratation_data/combined_song_data.csv', index = False)"
   ]
  },
  {
   "cell_type": "code",
   "execution_count": 94,
   "metadata": {},
   "outputs": [],
   "source": [
    "# Reading in Our World In Data Covid-19 data\n",
    "\n",
    "covid = pd.read_csv(\"C:/Users/ajaym/Downloads/owid-covid-data.csv\")"
   ]
  },
  {
   "cell_type": "code",
   "execution_count": 95,
   "metadata": {},
   "outputs": [],
   "source": [
    "# Converting date column from string to date datatype\n",
    "\n",
    "covid['date'] = pd.to_datetime(covid['date'])"
   ]
  },
  {
   "cell_type": "code",
   "execution_count": 96,
   "metadata": {},
   "outputs": [],
   "source": [
    "# Selecting rows of UK only\n",
    "\n",
    "uk_covid = covid[covid['iso_code'] == 'GBR']"
   ]
  },
  {
   "cell_type": "code",
   "execution_count": 97,
   "metadata": {},
   "outputs": [],
   "source": [
    "# Selecting data within the time period of this study\n",
    "\n",
    "uk_covid = uk_covid[(uk_covid['date'] >= '1/1/2019') & (uk_covid['date'] <= '31/12/2022')]"
   ]
  },
  {
   "cell_type": "code",
   "execution_count": 98,
   "metadata": {},
   "outputs": [],
   "source": [
    "# Saving the subsetted data\n",
    "\n",
    "uk_covid.to_csv('D:/Disseratation_data/uk_covid_data.csv', index = False)"
   ]
  }
 ],
 "metadata": {
  "kernelspec": {
   "display_name": "base",
   "language": "python",
   "name": "python3"
  },
  "language_info": {
   "codemirror_mode": {
    "name": "ipython",
    "version": 3
   },
   "file_extension": ".py",
   "mimetype": "text/x-python",
   "name": "python",
   "nbconvert_exporter": "python",
   "pygments_lexer": "ipython3",
   "version": "3.8.10"
  },
  "orig_nbformat": 4
 },
 "nbformat": 4,
 "nbformat_minor": 2
}
